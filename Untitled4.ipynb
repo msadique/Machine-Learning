{
 "cells": [
  {
   "cell_type": "code",
   "execution_count": 8,
   "metadata": {
    "collapsed": true
   },
   "outputs": [],
   "source": [
    "%matplotlib inline\n",
    "import numpy as np\n",
    "import matplotlib.pyplot as plt\n",
    "from matplotlib import pylab\n",
    "pylab.rcParams['figure.figsize']= (10.0,8.0)\n",
    "from scipy.optimize import minimize\n",
    "def f(x):\n",
    "    return  1/(1+np.exp(x))\n"
   ]
  },
  {
   "cell_type": "code",
   "execution_count": 9,
   "metadata": {
    "collapsed": false
   },
   "outputs": [],
   "source": [
    "def cll(X,y,w):\n",
    "    c = 0\n",
    "    for i in range (X.shape[0]):\n",
    "        s = np.dot(X[i],w).sum()\n",
    "        # print (s,\" + \",w)\n",
    "        if y[i]:\n",
    "            c +=np.log(1-f(s))\n",
    "        else:\n",
    "            c +=np.log(f(s))\n",
    "    return c\n",
    "\n"
   ]
  },
  {
   "cell_type": "code",
   "execution_count": 17,
   "metadata": {
    "collapsed": false
   },
   "outputs": [
    {
     "ename": "SyntaxError",
     "evalue": "invalid syntax (<ipython-input-17-48e1faef11f9>, line 4)",
     "output_type": "error",
     "traceback": [
      "\u001b[1;36m  File \u001b[1;32m\"<ipython-input-17-48e1faef11f9>\"\u001b[1;36m, line \u001b[1;32m4\u001b[0m\n\u001b[1;33m    for i in range 3:\u001b[0m\n\u001b[1;37m                   ^\u001b[0m\n\u001b[1;31mSyntaxError\u001b[0m\u001b[1;31m:\u001b[0m invalid syntax\n"
     ]
    }
   ],
   "source": [
    "def gcll(X,y,w):\n",
    "    g = np.zeros(X.shape[1])\n",
    "    print\n",
    "    for i in range (X.shape[0]):\n",
    "        s = np.dot(X[i],w).sum()\n",
    "        p_ = 0\n",
    "        if y[i]:\n",
    "            p_ += f(s)\n",
    "        else:\n",
    "            p_ -=(1-f(s))\n",
    "        #np.dot(X[i],w).sum()\n",
    "        g += (p_*X[i]).A1\n",
    "        #g += np.dot(X[i],p_).sum()\n",
    "    print(g)\n",
    "    return g"
   ]
  },
  {
   "cell_type": "code",
   "execution_count": 5,
   "metadata": {
    "collapsed": false
   },
   "outputs": [
    {
     "name": "stdout",
     "output_type": "stream",
     "text": [
      "[ 7.  -1.5]\n",
      "[  1.67619482e-05   6.52558306e-06]\n",
      "[  1.67613011e-05   6.52530961e-06]\n",
      "[  1.67587130e-05   6.52421593e-06]\n",
      "[  1.67483648e-05   6.51984303e-06]\n",
      "[  1.67296251e-05   6.51192448e-06]\n",
      "[  1.67613011e-05   6.52530961e-06]\n",
      "[  1.67606540e-05   6.52503617e-06]\n",
      "[  1.67593600e-05   6.52448934e-06]\n",
      "[  1.67567722e-05   6.52339579e-06]\n",
      "[  1.67515979e-05   6.52120925e-06]\n",
      "[  1.67412541e-05   6.51683833e-06]\n",
      "[  1.67205860e-05   6.50810512e-06]\n",
      "[  1.66793270e-05   6.49067327e-06]\n",
      "[  1.65971177e-05   6.45594730e-06]\n",
      "[  1.64339261e-05   6.38704300e-06]\n",
      "[  1.61123945e-05   6.25139846e-06]\n",
      "[  1.48528638e-05   5.72159002e-06]\n",
      "[  1.07337759e-05   4.00949566e-06]\n",
      "[  4.85910143e-06   1.65441621e-06]\n"
     ]
    },
    {
     "data": {
      "text/plain": [
       "      fun: 2.4295517729448805e-06\n",
       " hess_inv: array([[ 28293.02781426,  11014.27697945],\n",
       "       [ 11014.27697945,   4288.93221024]])\n",
       "      jac: array([ -4.85910143e-06,  -1.65441621e-06])\n",
       "  message: 'Optimization terminated successfully.'\n",
       "     nfev: 20\n",
       "      nit: 4\n",
       "     njev: 20\n",
       "   status: 0\n",
       "  success: True\n",
       "        x: array([ 7.54188734, -1.28903959])"
      ]
     },
     "execution_count": 5,
     "metadata": {},
     "output_type": "execute_result"
    }
   ],
   "source": [
    "X = np.matrix([[1,-2,1],\n",
    "              [1,-2,1],\n",
    "              [1,-2,1],\n",
    "              [1,-2,1],\n",
    "              [1,-2,1],\n",
    "              [1,2,1],\n",
    "              [1,2,1]])\n",
    "y=np.array([False, False,False,False,False, True,True])\n",
    "res = minimize(lambda x:-cll(X,y,x), np.zeros(X.shape[1]) , method='BFGS', jac=lambda x:-gcll(X,y,x))\n",
    "res"
   ]
  },
  {
   "cell_type": "code",
   "execution_count": 116,
   "metadata": {
    "collapsed": false
   },
   "outputs": [
    {
     "name": "stdout",
     "output_type": "stream",
     "text": [
      "0.999999999998\n",
      "0.999999999998\n",
      "0.999999999998\n",
      "1.87952881654e-12\n",
      "1.87952881654e-12\n",
      "1.87952881654e-12\n"
     ]
    }
   ],
   "source": [
    "for i in range(X.shape[0]):\n",
    "    print(f(np.dot(X[i],res.x).sum()))"
   ]
  },
  {
   "cell_type": "code",
   "execution_count": 18,
   "metadata": {
    "collapsed": false
   },
   "outputs": [
    {
     "ename": "ValueError",
     "evalue": "shapes (1,2) and (3,) not aligned: 2 (dim 1) != 3 (dim 0)",
     "output_type": "error",
     "traceback": [
      "\u001b[1;31m---------------------------------------------------------------------------\u001b[0m",
      "\u001b[1;31mValueError\u001b[0m                                Traceback (most recent call last)",
      "\u001b[1;32m<ipython-input-18-9781212f54ee>\u001b[0m in \u001b[0;36m<module>\u001b[1;34m()\u001b[0m\n\u001b[0;32m      1\u001b[0m \u001b[0mw\u001b[0m \u001b[1;33m=\u001b[0m \u001b[0mnp\u001b[0m\u001b[1;33m.\u001b[0m\u001b[0marray\u001b[0m\u001b[1;33m(\u001b[0m\u001b[1;33m[\u001b[0m\u001b[1;36m1\u001b[0m\u001b[1;33m,\u001b[0m\u001b[1;36m2\u001b[0m\u001b[1;33m,\u001b[0m\u001b[1;33m-\u001b[0m\u001b[1;36m2\u001b[0m\u001b[1;33m]\u001b[0m\u001b[1;33m)\u001b[0m\u001b[1;33m\u001b[0m\u001b[0m\n\u001b[1;32m----> 2\u001b[1;33m \u001b[0mcll\u001b[0m\u001b[1;33m(\u001b[0m\u001b[0mX\u001b[0m\u001b[1;33m,\u001b[0m\u001b[0my\u001b[0m\u001b[1;33m,\u001b[0m\u001b[0mw\u001b[0m\u001b[1;33m)\u001b[0m\u001b[1;33m\u001b[0m\u001b[0m\n\u001b[0m\u001b[0;32m      3\u001b[0m \u001b[0mprint\u001b[0m\u001b[1;33m(\u001b[0m\u001b[0mX\u001b[0m\u001b[1;33m)\u001b[0m\u001b[1;33m\u001b[0m\u001b[0m\n",
      "\u001b[1;32m<ipython-input-9-adf2a717f7a7>\u001b[0m in \u001b[0;36mcll\u001b[1;34m(X, y, w)\u001b[0m\n\u001b[0;32m      2\u001b[0m     \u001b[0mc\u001b[0m \u001b[1;33m=\u001b[0m \u001b[1;36m0\u001b[0m\u001b[1;33m\u001b[0m\u001b[0m\n\u001b[0;32m      3\u001b[0m     \u001b[1;32mfor\u001b[0m \u001b[0mi\u001b[0m \u001b[1;32min\u001b[0m \u001b[0mrange\u001b[0m \u001b[1;33m(\u001b[0m\u001b[0mX\u001b[0m\u001b[1;33m.\u001b[0m\u001b[0mshape\u001b[0m\u001b[1;33m[\u001b[0m\u001b[1;36m0\u001b[0m\u001b[1;33m]\u001b[0m\u001b[1;33m)\u001b[0m\u001b[1;33m:\u001b[0m\u001b[1;33m\u001b[0m\u001b[0m\n\u001b[1;32m----> 4\u001b[1;33m         \u001b[0ms\u001b[0m \u001b[1;33m=\u001b[0m \u001b[0mnp\u001b[0m\u001b[1;33m.\u001b[0m\u001b[0mdot\u001b[0m\u001b[1;33m(\u001b[0m\u001b[0mX\u001b[0m\u001b[1;33m[\u001b[0m\u001b[0mi\u001b[0m\u001b[1;33m]\u001b[0m\u001b[1;33m,\u001b[0m\u001b[0mw\u001b[0m\u001b[1;33m)\u001b[0m\u001b[1;33m.\u001b[0m\u001b[0msum\u001b[0m\u001b[1;33m(\u001b[0m\u001b[1;33m)\u001b[0m\u001b[1;33m\u001b[0m\u001b[0m\n\u001b[0m\u001b[0;32m      5\u001b[0m         \u001b[1;31m# print (s,\" + \",w)\u001b[0m\u001b[1;33m\u001b[0m\u001b[1;33m\u001b[0m\u001b[0m\n\u001b[0;32m      6\u001b[0m         \u001b[1;32mif\u001b[0m \u001b[0my\u001b[0m\u001b[1;33m[\u001b[0m\u001b[0mi\u001b[0m\u001b[1;33m]\u001b[0m\u001b[1;33m:\u001b[0m\u001b[1;33m\u001b[0m\u001b[0m\n",
      "\u001b[1;31mValueError\u001b[0m: shapes (1,2) and (3,) not aligned: 2 (dim 1) != 3 (dim 0)"
     ]
    }
   ],
   "source": [
    "w = np.array([1,2,-2])\n",
    "cll(X,y,w)\n",
    "print(X)"
   ]
  },
  {
   "cell_type": "code",
   "execution_count": 118,
   "metadata": {
    "collapsed": false
   },
   "outputs": [
    {
     "data": {
      "text/plain": [
       "0.71094950262500389"
      ]
     },
     "execution_count": 118,
     "metadata": {},
     "output_type": "execute_result"
    }
   ],
   "source": [
    "f(np.dot([[0,-0.1]],res.x).sum())"
   ]
  },
  {
   "cell_type": "code",
   "execution_count": 157,
   "metadata": {
    "collapsed": false
   },
   "outputs": [
    {
     "data": {
      "text/plain": [
       "<matplotlib.lines.Line2D at 0x27a2d2b8e48>"
      ]
     },
     "execution_count": 157,
     "metadata": {},
     "output_type": "execute_result"
    },
    {
     "data": {
      "image/png": "[encoded data removed]",
      "text/plain": [
       "<matplotlib.figure.Figure at 0x27a2cc38d30>"
      ]
     },
     "metadata": {},
     "output_type": "display_data"
    }
   ],
   "source": [
    "y=[False, False, False, True, True, True]\n",
    "xs=np.linspace(-4, 4, 1000)\n",
    "ax = plt.subplot()\n",
    "ax.plot(xs, [f(np.dot([1,x],res.x).sum()) for x in xs], linewidth=2  , label='gf')\n",
    "ax.axhline(y=.5, color='k')\n",
    "ax.axvline(x=0, color='k')\n",
    "\n",
    "#ax.plot(xs, [gcll(X,y,x)for x in xs], linewidth=2  , label='gf')"
   ]
  },
  {
   "cell_type": "code",
   "execution_count": 176,
   "metadata": {
    "collapsed": false
   },
   "outputs": [
    {
     "name": "stdout",
     "output_type": "stream",
     "text": [
      "[ 10.  -3.]\n",
      "[  1.67239403e-07   8.19778005e-08]\n"
     ]
    },
    {
     "data": {
      "text/plain": [
       "      fun: 8.361970309932393e-08\n",
       " hess_inv: array([[1, 0],\n",
       "       [0, 1]])\n",
       "      jac: array([ -1.67239403e-07,  -8.19778005e-08])\n",
       "  message: 'Optimization terminated successfully.'\n",
       "     nfev: 2\n",
       "      nit: 1\n",
       "     njev: 2\n",
       "   status: 0\n",
       "  success: True\n",
       "        x: array([ 10.,  -3.])"
      ]
     },
     "execution_count": 176,
     "metadata": {},
     "output_type": "execute_result"
    }
   ],
   "source": [
    "X = np.matrix([[2,1],\n",
    "              [2,1],\n",
    "              [-2,1],\n",
    "              [-2,1],\n",
    "              [-2,1],\n",
    "              [-2,1],\n",
    "              [-2,1],\n",
    "              [-2,1],\n",
    "              [-2,1],\n",
    "              [-2,1]])\n",
    "y=np.array([True, True,False, False, False,False,False,False,False,False])\n",
    "res = minimize(lambda x:-cll(X,y,x), np.zeros(X.shape[1]) , method='BFGS', jac=lambda x:-gcll(X,y,x))\n",
    "res"
   ]
  },
  {
   "cell_type": "code",
   "execution_count": 177,
   "metadata": {
    "collapsed": false
   },
   "outputs": [
    {
     "data": {
      "text/plain": [
       "array([ 10.,  -3.])"
      ]
     },
     "execution_count": 177,
     "metadata": {},
     "output_type": "execute_result"
    }
   ],
   "source": [
    "res.x"
   ]
  },
  {
   "cell_type": "code",
   "execution_count": 178,
   "metadata": {
    "collapsed": false
   },
   "outputs": [
    {
     "data": {
      "text/plain": [
       "<matplotlib.lines.Line2D at 0x27a2f93bb70>"
      ]
     },
     "execution_count": 178,
     "metadata": {},
     "output_type": "execute_result"
    },
    {
     "data": {
      "image/png": "[encoded data removed]",
      "text/plain": [
       "<matplotlib.figure.Figure at 0x27a2f9ce828>"
      ]
     },
     "metadata": {},
     "output_type": "display_data"
    }
   ],
   "source": [
    "y=[False, False, False, True, True, True]\n",
    "xs=np.linspace(-10, 10, 1000)\n",
    "ax = plt.subplot()\n",
    "ax.plot(xs, [f(np.dot([1,x],res.x).sum()) for x in xs], linewidth=2  , label='gf')\n",
    "ax.axhline(y=.5, color='k')\n",
    "ax.axvline(x=0., color='k')"
   ]
  },
  {
   "cell_type": "code",
   "execution_count": null,
   "metadata": {
    "collapsed": true
   },
   "outputs": [],
   "source": []
  },
  {
   "cell_type": "code",
   "execution_count": 123,
   "metadata": {
    "collapsed": true
   },
   "outputs": [],
   "source": [
    "def cll_l2(X,y,w,a):\n",
    "    c_ = cll(X,y,w)\n",
    "    w = np.array(w)\n",
    "    penalty = 0.5*np.sum(w*w)\n",
    "    return c_ - a*penalty\n",
    "def gcll_l2(X,y,w,a):\n",
    "    g_ = gcll(X,y,w)\n",
    "    penalty = np.sum(w)\n",
    "    return g_ - a*penalty\n"
   ]
  },
  {
   "cell_type": "code",
   "execution_count": 125,
   "metadata": {
    "collapsed": false
   },
   "outputs": [
    {
     "name": "stdout",
     "output_type": "stream",
     "text": [
      "[ 0.  9.]\n",
      "[ -2.36292465e-16   3.38322276e-11]\n",
      "[  3.72965547e-16   9.67090882e-02]\n",
      "[ 0.02001057  0.09963334]\n",
      "[ 0.00357922  0.09427981]\n",
      "[ 0.00066782  0.09616891]\n",
      "[ 0.00012447  0.09660549]\n",
      "[  2.31907217e-05   9.66896869e-02]\n",
      "[  4.32031256e-06   9.67054703e-02]\n",
      "[  8.04839239e-07   9.67084141e-02]\n",
      "[  1.49934585e-07   9.67089626e-02]\n",
      "[  2.79315000e-08   9.67090648e-02]\n",
      "[  5.20339300e-09   9.67090838e-02]\n",
      "[  9.69346393e-10   9.67090874e-02]\n",
      "[  8.11061425e-10   9.67090875e-02]\n"
     ]
    },
    {
     "data": {
      "text/plain": [
       "      fun: 3.0611210256728305\n",
       " hess_inv: array([[ 1.        , -0.2810638 ],\n",
       "       [-0.2810638 ,  0.21952876]])\n",
       "      jac: array([ 3.4806883 ,  3.38397921])\n",
       "  message: 'Desired error not necessarily achieved due to precision loss.'\n",
       "     nfev: 27\n",
       "      nit: 1\n",
       "     njev: 15\n",
       "   status: 2\n",
       "  success: False\n",
       "        x: array([ 0.        ,  1.74034415])"
      ]
     },
     "execution_count": 125,
     "metadata": {},
     "output_type": "execute_result"
    }
   ],
   "source": [
    "X = np.matrix([[1,-3],\n",
    "              [1,-3],\n",
    "              [1,-3],\n",
    "              [1,3],\n",
    "              [1,3],\n",
    "              [1,3]])\n",
    "y=np.array([False, False,False, True, True,True])\n",
    "a=2\n",
    "res = minimize(lambda x:-cll_l2(X,y,x,a), np.zeros(X.shape[1]) , method='BFGS', jac=lambda x:-gcll_l2(X,y,x,a))\n",
    "res"
   ]
  },
  {
   "cell_type": "code",
   "execution_count": null,
   "metadata": {
    "collapsed": true
   },
   "outputs": [],
   "source": []
  }
 ],
 "metadata": {
  "anaconda-cloud": {},
  "kernelspec": {
   "display_name": "Python [Root]",
   "language": "python",
   "name": "Python [Root]"
  },
  "language_info": {
   "codemirror_mode": {
    "name": "ipython",
    "version": 3
   },
   "file_extension": ".py",
   "mimetype": "text/x-python",
   "name": "python",
   "nbconvert_exporter": "python",
   "pygments_lexer": "ipython3",
   "version": "3.5.2"
  }
 },
 "nbformat": 4,
 "nbformat_minor": 0
}
