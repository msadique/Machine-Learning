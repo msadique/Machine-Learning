{
 "cells": [
  {
   "cell_type": "code",
   "execution_count": 1,
   "metadata": {
    "collapsed": true
   },
   "outputs": [],
   "source": [
    "%matplotlib inline\n",
    "import numpy as np\n",
    "import matplotlib.pyplot as plt\n",
    "from matplotlib import pylab\n",
    "pylab.rcParams['figure.figsize']= (10.0,8.0)"
   ]
  },
  {
   "cell_type": "code",
   "execution_count": 2,
   "metadata": {
    "collapsed": true
   },
   "outputs": [],
   "source": [
    "def construct_A(X):\n",
    "    A=[]\n",
    "    for i in range(X.shape[1]):\n",
    "        row = []\n",
    "        for j in range(X.shape[1]):\n",
    "            s = 0\n",
    "            for d in X:\n",
    "                s +=d[i]*d[j]\n",
    "            row.append(s)\n",
    "        A.append(row)\n",
    "    return np.matrix(A)"
   ]
  },
  {
   "cell_type": "code",
   "execution_count": 3,
   "metadata": {
    "collapsed": true
   },
   "outputs": [],
   "source": [
    "def construct_b(X,r):\n",
    "    b=[np.dot(X[:,i],r) for i in range(X.shape[1])]\n",
    "    return np.matrix(b)"
   ]
  },
  {
   "cell_type": "code",
   "execution_count": 51,
   "metadata": {
    "collapsed": true
   },
   "outputs": [],
   "source": [
    "def f(x):\n",
    "    return 1 + 2*x"
   ]
  },
  {
   "cell_type": "raw",
   "metadata": {},
   "source": []
  },
  {
   "cell_type": "raw",
   "metadata": {},
   "source": [
    "rg"
   ]
  },
  {
   "cell_type": "code",
   "execution_count": 5,
   "metadata": {
    "collapsed": false
   },
   "outputs": [
    {
     "data": {
      "text/plain": [
       "array([2, 8, 4, 9, 1, 6, 7, 3, 0, 5])"
      ]
     },
     "execution_count": 5,
     "metadata": {},
     "output_type": "execute_result"
    }
   ],
   "source": [
    "rg = np.random.RandomState(0)\n",
    "rg.permutation(range(10))"
   ]
  },
  {
   "cell_type": "code",
   "execution_count": 83,
   "metadata": {
    "collapsed": false
   },
   "outputs": [
    {
     "name": "stdout",
     "output_type": "stream",
     "text": [
      "[ 0.86868687  0.94949495  0.42424242  0.62626263 -0.3030303  -0.70707071\n",
      "  0.66666667  0.38383838  0.70707071 -0.46464646]\n"
     ]
    }
   ],
   "source": [
    "x_all = np.linspace(-2,2,100)\n",
    "#x_all = np.linspace(0,8,100)\n",
    "x_tr = x_all[25:75]\n",
    "#print(x_tr)\n",
    "x_tr = x_tr[rg.permutation(range(len(x_tr)))[:10]]\n",
    "print(x_tr)\n",
    "r_tr = f(x_tr)\n",
    "r_all = f(x_all)\n",
    "\n",
    "D_tr = x_tr[:,np.newaxis]\n",
    "#print(D_tr)\n",
    "X_tr = np.hstack((np.ones((D_tr.shape[0],1)),D_tr))\n",
    "\n",
    "D_all = x_all[:,np.newaxis]\n",
    "\n",
    "X_all = np.hstack((np.ones((D_all.shape[0],1)),D_all))\n",
    "#print(x_all)\n",
    "#print(X_all)"
   ]
  },
  {
   "cell_type": "code",
   "execution_count": 7,
   "metadata": {
    "collapsed": false
   },
   "outputs": [
    {
     "data": {
      "text/plain": [
       "<matplotlib.legend.Legend at 0x248d19a8358>"
      ]
     },
     "execution_count": 7,
     "metadata": {},
     "output_type": "execute_result"
    },
    {
     "data": {
      "image/png": "[encoded data removed]",
      "text/plain": [
       "<matplotlib.figure.Figure at 0x248cf67aba8>"
      ]
     },
     "metadata": {},
     "output_type": "display_data"
    }
   ],
   "source": [
    "lw =3\n",
    "plt.plot(x_all,f(x_all),color='blue',linewidth =lw,label=\"ground truth\")\n",
    "plt.scatter(x_tr,r_tr,color='navy',s=50,marker ='o',label= \"training\")\n",
    "plt.legend(loc='lower right')"
   ]
  },
  {
   "cell_type": "code",
   "execution_count": 77,
   "metadata": {
    "collapsed": false
   },
   "outputs": [
    {
     "name": "stdout",
     "output_type": "stream",
     "text": [
      "[[  1.00000000e+00   7.87878788e-01   6.20752984e-01   4.89078109e-01]\n",
      " [  1.00000000e+00  -2.62626263e-01   6.89725538e-02  -1.81140040e-02]\n",
      " [  1.00000000e+00  -8.68686869e-01   7.54616876e-01  -6.55525771e-01]\n",
      " [  1.00000000e+00  -2.02020202e-02   4.08121620e-04  -8.24488122e-06]\n",
      " [  1.00000000e+00  -1.41414141e-01   1.99979594e-02  -2.82799426e-03]\n",
      " [  1.00000000e+00  -9.49494949e-01   9.01540659e-01  -8.56008303e-01]\n",
      " [  1.00000000e+00   5.45454545e-01   2.97520661e-01   1.62283997e-01]\n",
      " [  1.00000000e+00   1.41414141e-01   1.99979594e-02   2.82799426e-03]\n",
      " [  1.00000000e+00   2.02020202e-02   4.08121620e-04   8.24488122e-06]\n",
      " [  1.00000000e+00   9.89898990e-01   9.79900010e-01   9.70002030e-01]] [[ 10.           0.24242424   3.66411591   0.09171606]\n",
      " [  0.24242424   3.66411591   0.09171606   2.82183641]\n",
      " [  3.66411591   0.09171606   2.82183641   0.03473807]\n",
      " [  0.09171606   2.82183641   0.03473807   2.36924579]]\n",
      "[[ -35.15040209  133.62941635  -30.52552078  103.53849986]]\n"
     ]
    }
   ],
   "source": [
    "A= construct_A(X_tr)\n",
    "print(X_tr,A)\n",
    "b= construct_b(X_tr,r_tr)\n",
    "print(b)"
   ]
  },
  {
   "cell_type": "code",
   "execution_count": 78,
   "metadata": {
    "collapsed": false
   },
   "outputs": [
    {
     "data": {
      "text/plain": [
       "matrix([[  7.15111156e-17],\n",
       "        [  3.60000000e+01],\n",
       "        [ -1.20000000e+01],\n",
       "        [  1.00000000e+00]])"
      ]
     },
     "execution_count": 78,
     "metadata": {},
     "output_type": "execute_result"
    }
   ],
   "source": [
    "A.I*b.T"
   ]
  },
  {
   "cell_type": "code",
   "execution_count": 40,
   "metadata": {
    "collapsed": false
   },
   "outputs": [
    {
     "name": "stdout",
     "output_type": "stream",
     "text": [
      "[  2.31817729 -27.29346227  14.27937446 -35.57933243  -0.635748\n",
      " -32.01786496  23.02392468 -38.80109999  25.51954275  17.6755088 ] [  2.13796366 -27.49753633  15.2497323  -36.30175029  -0.73217843\n",
      " -31.80743255  22.15379795 -38.6190566   24.84756554  18.08461928] [ 0.08270994 -1.29105846 -0.66110423 -1.18019102  0.19764264  0.41389998\n",
      "  1.19732198  1.88335386  0.71422382  2.28433335]\n"
     ]
    },
    {
     "data": {
      "text/plain": [
       "<matplotlib.legend.Legend at 0x248d376aba8>"
      ]
     },
     "execution_count": 40,
     "metadata": {},
     "output_type": "execute_result"
    },
    {
     "data": {
      "image/png": "[encoded data removed]",
      "text/plain": [
       "<matplotlib.figure.Figure at 0x248d383c358>"
      ]
     },
     "metadata": {},
     "output_type": "display_data"
    }
   ],
   "source": [
    "r_noisy = r_tr+rg.normal(loc=0,scale=0.5,size=len(r_tr))\n",
    "print(r_noisy,r_tr,rg.normal(loc=0,scale=1,size=len(r_tr)))\n",
    "lw =3\n",
    "plt.plot(x_all,f(x_all),color='blue',linewidth =lw,label=\"ground truth\")\n",
    "plt.scatter(x_tr,r_noisy,color='navy',s=50,marker ='o',label= \"training\")\n",
    "plt.legend(loc='lower right')"
   ]
  },
  {
   "cell_type": "code",
   "execution_count": 11,
   "metadata": {
    "collapsed": false
   },
   "outputs": [
    {
     "data": {
      "text/plain": [
       "LinearRegression(copy_X=True, fit_intercept=False, n_jobs=1, normalize=False)"
      ]
     },
     "execution_count": 11,
     "metadata": {},
     "output_type": "execute_result"
    }
   ],
   "source": [
    "from sklearn import datasets, linear_model\n",
    "clf = linear_model.LinearRegression(fit_intercept=False)\n",
    "clf.fit(X_tr,r_noisy)"
   ]
  },
  {
   "cell_type": "code",
   "execution_count": 12,
   "metadata": {
    "collapsed": false
   },
   "outputs": [
    {
     "data": {
      "text/plain": [
       "array([ 1.42991812,  1.87950219])"
      ]
     },
     "execution_count": 12,
     "metadata": {},
     "output_type": "execute_result"
    }
   ],
   "source": [
    "clf.coef_"
   ]
  },
  {
   "cell_type": "code",
   "execution_count": 13,
   "metadata": {
    "collapsed": false
   },
   "outputs": [
    {
     "data": {
      "text/plain": [
       "(array([ 1.,  2.]),\n",
       " array([  3.98282786e-29]),\n",
       " 2,\n",
       " array([ 14.53178628,   0.75489522]))"
      ]
     },
     "execution_count": 13,
     "metadata": {},
     "output_type": "execute_result"
    }
   ],
   "source": [
    "np.linalg.lstsq(X_tr,r_tr)"
   ]
  },
  {
   "cell_type": "code",
   "execution_count": 82,
   "metadata": {
    "collapsed": true
   },
   "outputs": [],
   "source": [
    "\n",
    "def f(x):\n",
    "    return 1+(x**3)-12*(x**2)+36*x"
   ]
  },
  {
   "cell_type": "code",
   "execution_count": 84,
   "metadata": {
    "collapsed": false
   },
   "outputs": [],
   "source": [
    "from sklearn.preprocessing import PolynomialFeatures\n",
    "pf = PolynomialFeatures(degree=3)\n",
    "X_tr=pf.fit_transform(D_tr)\n",
    "A=construct_A(X_tr)\n",
    "b=construct_b(X_tr,r_tr)\n",
    "w=np.squeeze(np.asarray(A.I*b.T))\n",
    "X_all=pf.transform(D_all)\n",
    "p = np.dot(X_all,w)\n"
   ]
  },
  {
   "cell_type": "code",
   "execution_count": 85,
   "metadata": {
    "collapsed": false
   },
   "outputs": [
    {
     "data": {
      "text/plain": [
       "array([  1.,  36., -12.,   1.])"
      ]
     },
     "execution_count": 85,
     "metadata": {},
     "output_type": "execute_result"
    }
   ],
   "source": [
    "w"
   ]
  },
  {
   "cell_type": "code",
   "execution_count": 17,
   "metadata": {
    "collapsed": false
   },
   "outputs": [],
   "source": [
    "from sklearn.datasets import load_boston\n",
    "boston = load_boston()"
   ]
  },
  {
   "cell_type": "code",
   "execution_count": 18,
   "metadata": {
    "collapsed": false
   },
   "outputs": [
    {
     "data": {
      "text/plain": [
       "Ridge(alpha=1.0, copy_X=True, fit_intercept=True, max_iter=None,\n",
       "   normalize=False, random_state=None, solver='auto', tol=0.001)"
      ]
     },
     "execution_count": 18,
     "metadata": {},
     "output_type": "execute_result"
    }
   ],
   "source": [
    "boston\n",
    "from sklearn.linear_model import Ridge\n",
    "clf = Ridge(alpha=1.0)\n",
    "clf.fit(boston.data, boston.target) "
   ]
  },
  {
   "cell_type": "code",
   "execution_count": 19,
   "metadata": {
    "collapsed": true
   },
   "outputs": [],
   "source": [
    "pr= [[6.71311099,\n",
    "  11.3774704,\n",
    "  12.7703953,\n",
    "  0.0592885375,\n",
    "  0.588693281,\n",
    "  6.23768379,\n",
    "  71.4363636,\n",
    "  3.43944269,\n",
    "  14.5335968,\n",
    "  18.9952569,\n",
    "  336.734941,\n",
    "  13.9339921]]"
   ]
  },
  {
   "cell_type": "code",
   "execution_count": 20,
   "metadata": {
    "collapsed": false
   },
   "outputs": [],
   "source": [
    "pr = [[  6.71311099e+00,   1.13774704e+01,   1.27703953e+01,           5.92885375e-02,   5.88693281e-01,   6.23768379e+00,           7.14363636e+01,   3.43944269e+00,   1.45335968e+01,           4.95553360e+02,   1.89952569e+01,   3.36734941e+02,           1.39339921e+01]]"
   ]
  },
  {
   "cell_type": "code",
   "execution_count": 21,
   "metadata": {
    "collapsed": false
   },
   "outputs": [
    {
     "data": {
      "text/plain": [
       "array([ 21.06101508])"
      ]
     },
     "execution_count": 21,
     "metadata": {},
     "output_type": "execute_result"
    }
   ],
   "source": [
    "clf.predict(pr)"
   ]
  },
  {
   "cell_type": "code",
   "execution_count": 22,
   "metadata": {
    "collapsed": false
   },
   "outputs": [
    {
     "name": "stdout",
     "output_type": "stream",
     "text": [
      "[-15.1506561  -33.33108327 -53.28544689 -56.60390369 -19.29364303]\n"
     ]
    }
   ],
   "source": [
    "from sklearn import datasets, linear_model\n",
    "from sklearn.model_selection import cross_val_score\n",
    "X = boston.data\n",
    "y = boston.target\n",
    "lasso = linear_model.Lasso()\n",
    "print(cross_val_score(lasso, X, y,cv=5,scoring='neg_mean_squared_error'))"
   ]
  },
  {
   "cell_type": "code",
   "execution_count": 23,
   "metadata": {
    "collapsed": false
   },
   "outputs": [],
   "source": [
    "sam=np.array(cross_val_score(lasso, X, y,cv=5,scoring='neg_mean_squared_error'))"
   ]
  },
  {
   "cell_type": "code",
   "execution_count": 24,
   "metadata": {
    "collapsed": false
   },
   "outputs": [
    {
     "data": {
      "text/plain": [
       "array([-15.1506561 , -33.33108327, -53.28544689, -56.60390369, -19.29364303])"
      ]
     },
     "execution_count": 24,
     "metadata": {},
     "output_type": "execute_result"
    }
   ],
   "source": [
    "sam"
   ]
  },
  {
   "cell_type": "code",
   "execution_count": 25,
   "metadata": {
    "collapsed": false
   },
   "outputs": [
    {
     "data": {
      "text/plain": [
       "35.532946595983333"
      ]
     },
     "execution_count": 25,
     "metadata": {},
     "output_type": "execute_result"
    }
   ],
   "source": [
    "sam.mean()*-1"
   ]
  },
  {
   "cell_type": "code",
   "execution_count": 26,
   "metadata": {
    "collapsed": true
   },
   "outputs": [],
   "source": [
    "x1 = np.array([2, 0, 4, 3, 1])\n",
    "x2 = np.array([3, 2, 0, 4, 1])\n",
    "x3 = np.array([2, 4, 3, 0, 1])\n",
    "y = np.array([11, 7, 11.25, 13, 5.25])"
   ]
  },
  {
   "cell_type": "code",
   "execution_count": 27,
   "metadata": {
    "collapsed": false
   },
   "outputs": [
    {
     "name": "stdout",
     "output_type": "stream",
     "text": [
      "[[ 1.  2.  3.  2.]\n",
      " [ 1.  0.  2.  4.]\n",
      " [ 1.  4.  0.  3.]\n",
      " [ 1.  3.  4.  0.]\n",
      " [ 1.  1.  1.  1.]]\n"
     ]
    }
   ],
   "source": [
    " A = np.vstack([ np.ones(len(x1)),x1,x2,x3]).T\n",
    "print(A)"
   ]
  },
  {
   "cell_type": "code",
   "execution_count": 28,
   "metadata": {
    "collapsed": false
   },
   "outputs": [
    {
     "data": {
      "text/plain": [
       "array([ 1.  ,  2.  ,  1.5 ,  0.75])"
      ]
     },
     "execution_count": 28,
     "metadata": {},
     "output_type": "execute_result"
    }
   ],
   "source": [
    "np.linalg.lstsq(A, y)[0]"
   ]
  },
  {
   "cell_type": "code",
   "execution_count": 29,
   "metadata": {
    "collapsed": false
   },
   "outputs": [
    {
     "data": {
      "text/plain": [
       "array([ 1.  ,  2.  ,  1.5 ,  0.75])"
      ]
     },
     "execution_count": 29,
     "metadata": {},
     "output_type": "execute_result"
    }
   ],
   "source": [
    "x=np.linalg.lstsq(A, y)[0]\n",
    "x"
   ]
  },
  {
   "cell_type": "code",
   "execution_count": 30,
   "metadata": {
    "collapsed": false
   },
   "outputs": [
    {
     "data": {
      "text/plain": [
       "'1.00'"
      ]
     },
     "execution_count": 30,
     "metadata": {},
     "output_type": "execute_result"
    }
   ],
   "source": [
    "format(1, '0.2f')"
   ]
  },
  {
   "cell_type": "code",
   "execution_count": 99,
   "metadata": {
    "collapsed": false
   },
   "outputs": [
    {
     "data": {
      "text/plain": [
       "array([[ 1.,  2.],\n",
       "       [ 1.,  4.]])"
      ]
     },
     "execution_count": 99,
     "metadata": {},
     "output_type": "execute_result"
    }
   ],
   "source": [
    "x1 = np.array([2, 4])\n",
    "y = np.array([5,7])\n",
    "A = np.vstack([ np.ones(len(x1)),x1]).T\n",
    "A"
   ]
  },
  {
   "cell_type": "code",
   "execution_count": 100,
   "metadata": {
    "collapsed": false
   },
   "outputs": [
    {
     "data": {
      "text/plain": [
       "array([ 3.,  1.])"
      ]
     },
     "execution_count": 100,
     "metadata": {},
     "output_type": "execute_result"
    }
   ],
   "source": [
    "np.linalg.lstsq(A, y)[0]"
   ]
  },
  {
   "cell_type": "code",
   "execution_count": null,
   "metadata": {
    "collapsed": true
   },
   "outputs": [],
   "source": []
  }
 ],
 "metadata": {
  "anaconda-cloud": {},
  "kernelspec": {
   "display_name": "Python [Root]",
   "language": "python",
   "name": "Python [Root]"
  },
  "language_info": {
   "codemirror_mode": {
    "name": "ipython",
    "version": 3
   },
   "file_extension": ".py",
   "mimetype": "text/x-python",
   "name": "python",
   "nbconvert_exporter": "python",
   "pygments_lexer": "ipython3",
   "version": "3.5.2"
  }
 },
 "nbformat": 4,
 "nbformat_minor": 0
}
